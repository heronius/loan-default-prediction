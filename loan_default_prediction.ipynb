{
 "cells": [
  {
   "cell_type": "markdown",
   "metadata": {},
   "source": [
    "# Loan Default Prediction"
   ]
  },
  {
   "cell_type": "markdown",
   "metadata": {},
   "source": [
    "The load default prediction problem is used to show a \"general\" structured approach to a machine learning prediction problem. To showcase the approach a simple regression (Ridge Regression) is used to predict the loss for the defaulting loans. The solution is not at all competitive - many parts are only highlighted and not worked out or implemented - the missing pieces and possible improvements are highlighted in the below texts.\n",
    "\n",
    "In general the following steps should be taken (not all are present in this solution):\n",
    "- Loading data (No error checking present).\n",
    "- Statistical analysis and visualisation. (The statistical analysis is reduce to a drescribe and no visualisations are done.)\n",
    "- Data cleaning and dealing with missing values. (Observations with missing data are simply filled with a feature column mean. Better solutions should be used. E.g. sklearn's Imputer or custom methods. In addition different filling values are used in the training and submission data - which introduces an extra bias - possible improvement use the same value in both cleaning steps.)\n",
    "- Feature Engineering incl. selection and dimensionality reduction. (No feature engineering nor reduction is done. Sklearn's PCA was tested, but sadly the current implementation in sklearn has a bug which is being resolved in a PR at this very moment. https://github.com/scikit-learn/scikit-learn/pull/10359. Besides a unsupervised PCA other dimensionality reducion mehtods exist, weights for models could be investigated, correlation matrices for the different features could be looked at etc.)\n",
    "- Splitting data, into a training and test data set. (The given split is chosen without further reasoning. The test data given by the challenge is the data which is needed for the submission. In a larger development project further splits should be considered, e.g. data which is only made available for certain milestones and the final implementation. This allows for more independent evaluation.)\n",
    "- Set benchmark error (by predicting the mean loss and evaluating the error, not done in this solution, it helps to quantify improvements with more elaborate models).\n",
    "- Model selection (No model selection is done, Ridge is chosen without further reasoning.)\n",
    "- Training regressor - predicting and measuring error (Challenge uses mean absolute error).\n",
    "- Validation, statistical analysis of the results. (No analysis of the results is done. As a next step it would be beneficial to check whether the training and test data and hence the predicted values share common statistical metrics and follow a \"similar\" distribution. This helps to spot biases introduced through the chosen methods).\n",
    "- Iterate over the process again and again to improve solution. (In the challenge at hand, working on the features will improve the result, as well evaluating different models and their parameters could bring insights and hence help improve the results. The challenge at hand has a special characteristic which one could make use of - separating the problem in two stages - classification on whether the loan will default and regression on the defaulting loans.)"
   ]
  },
  {
   "cell_type": "markdown",
   "metadata": {},
   "source": [
    "### Comments on Software Development\n",
    "\n",
    "The code is written (apparently) as a jupyter notebook script and hence useful for a interactive step by step execution. Plenty of code is copied for the train and test (submission) section. If a predictor should be implemented more for a production environment many more aspect have to be considered. Standalone execution with proper error handling and tests in place, monitoring capabilities, separate code into helper function to avoid code repetion etc."
   ]
  },
  {
   "cell_type": "markdown",
   "metadata": {},
   "source": [
    "### Training a Regressor Model"
   ]
  },
  {
   "cell_type": "code",
   "execution_count": 1,
   "metadata": {},
   "outputs": [],
   "source": [
    "import pandas as pd\n",
    "import numpy as np\n",
    "\n",
    "from sklearn.preprocessing import Imputer\n",
    "\n",
    "from sklearn.model_selection import train_test_split\n",
    "\n",
    "from sklearn.linear_model import Ridge\n",
    "\n",
    "from sklearn.metrics import mean_squared_error\n",
    "from sklearn.metrics import r2_score\n",
    "from sklearn.metrics import mean_absolute_error"
   ]
  },
  {
   "cell_type": "code",
   "execution_count": 2,
   "metadata": {},
   "outputs": [
    {
     "name": "stderr",
     "output_type": "stream",
     "text": [
      "/anaconda3/lib/python3.6/site-packages/IPython/core/interactiveshell.py:2728: DtypeWarning: Columns (135,204,274,417) have mixed types. Specify dtype option on import or set low_memory=False.\n",
      "  interactivity=interactivity, compiler=compiler, result=result)\n"
     ]
    }
   ],
   "source": [
    "# loading training data\n",
    "df_raw = pd.read_csv('./train_v2.csv')"
   ]
  },
  {
   "cell_type": "code",
   "execution_count": 3,
   "metadata": {},
   "outputs": [],
   "source": [
    "# copy the dataframe to avoid loading time if dataframe gets messed up during experiments in the development\n",
    "df = df_raw.copy()"
   ]
  },
  {
   "cell_type": "code",
   "execution_count": 4,
   "metadata": {},
   "outputs": [
    {
     "data": {
      "text/html": [
       "<div>\n",
       "<style scoped>\n",
       "    .dataframe tbody tr th:only-of-type {\n",
       "        vertical-align: middle;\n",
       "    }\n",
       "\n",
       "    .dataframe tbody tr th {\n",
       "        vertical-align: top;\n",
       "    }\n",
       "\n",
       "    .dataframe thead th {\n",
       "        text-align: right;\n",
       "    }\n",
       "</style>\n",
       "<table border=\"1\" class=\"dataframe\">\n",
       "  <thead>\n",
       "    <tr style=\"text-align: right;\">\n",
       "      <th></th>\n",
       "      <th>id</th>\n",
       "      <th>f1</th>\n",
       "      <th>f2</th>\n",
       "      <th>f3</th>\n",
       "      <th>f4</th>\n",
       "      <th>f5</th>\n",
       "      <th>f6</th>\n",
       "      <th>f7</th>\n",
       "      <th>f8</th>\n",
       "      <th>f9</th>\n",
       "      <th>...</th>\n",
       "      <th>f770</th>\n",
       "      <th>f771</th>\n",
       "      <th>f772</th>\n",
       "      <th>f773</th>\n",
       "      <th>f774</th>\n",
       "      <th>f775</th>\n",
       "      <th>f776</th>\n",
       "      <th>f777</th>\n",
       "      <th>f778</th>\n",
       "      <th>loss</th>\n",
       "    </tr>\n",
       "  </thead>\n",
       "  <tbody>\n",
       "    <tr>\n",
       "      <th>0</th>\n",
       "      <td>1</td>\n",
       "      <td>126</td>\n",
       "      <td>10</td>\n",
       "      <td>0.686842</td>\n",
       "      <td>1100</td>\n",
       "      <td>3</td>\n",
       "      <td>13699</td>\n",
       "      <td>7201.0</td>\n",
       "      <td>4949.0</td>\n",
       "      <td>126.75</td>\n",
       "      <td>...</td>\n",
       "      <td>5</td>\n",
       "      <td>2.14</td>\n",
       "      <td>-1.54</td>\n",
       "      <td>1.18</td>\n",
       "      <td>0.1833</td>\n",
       "      <td>0.7873</td>\n",
       "      <td>1</td>\n",
       "      <td>0</td>\n",
       "      <td>5</td>\n",
       "      <td>0</td>\n",
       "    </tr>\n",
       "    <tr>\n",
       "      <th>1</th>\n",
       "      <td>2</td>\n",
       "      <td>121</td>\n",
       "      <td>10</td>\n",
       "      <td>0.782776</td>\n",
       "      <td>1100</td>\n",
       "      <td>3</td>\n",
       "      <td>84645</td>\n",
       "      <td>240.0</td>\n",
       "      <td>1625.0</td>\n",
       "      <td>123.52</td>\n",
       "      <td>...</td>\n",
       "      <td>6</td>\n",
       "      <td>0.54</td>\n",
       "      <td>-0.24</td>\n",
       "      <td>0.13</td>\n",
       "      <td>0.1926</td>\n",
       "      <td>-0.6787</td>\n",
       "      <td>1</td>\n",
       "      <td>0</td>\n",
       "      <td>5</td>\n",
       "      <td>0</td>\n",
       "    </tr>\n",
       "    <tr>\n",
       "      <th>2</th>\n",
       "      <td>3</td>\n",
       "      <td>126</td>\n",
       "      <td>10</td>\n",
       "      <td>0.500080</td>\n",
       "      <td>1100</td>\n",
       "      <td>3</td>\n",
       "      <td>83607</td>\n",
       "      <td>1800.0</td>\n",
       "      <td>1527.0</td>\n",
       "      <td>127.76</td>\n",
       "      <td>...</td>\n",
       "      <td>13</td>\n",
       "      <td>2.89</td>\n",
       "      <td>-1.73</td>\n",
       "      <td>1.04</td>\n",
       "      <td>0.2521</td>\n",
       "      <td>0.7258</td>\n",
       "      <td>1</td>\n",
       "      <td>0</td>\n",
       "      <td>5</td>\n",
       "      <td>0</td>\n",
       "    </tr>\n",
       "    <tr>\n",
       "      <th>3</th>\n",
       "      <td>4</td>\n",
       "      <td>134</td>\n",
       "      <td>10</td>\n",
       "      <td>0.439874</td>\n",
       "      <td>1100</td>\n",
       "      <td>3</td>\n",
       "      <td>82642</td>\n",
       "      <td>7542.0</td>\n",
       "      <td>1730.0</td>\n",
       "      <td>132.94</td>\n",
       "      <td>...</td>\n",
       "      <td>4</td>\n",
       "      <td>1.29</td>\n",
       "      <td>-0.89</td>\n",
       "      <td>0.66</td>\n",
       "      <td>0.2498</td>\n",
       "      <td>0.7119</td>\n",
       "      <td>1</td>\n",
       "      <td>0</td>\n",
       "      <td>5</td>\n",
       "      <td>0</td>\n",
       "    </tr>\n",
       "    <tr>\n",
       "      <th>4</th>\n",
       "      <td>5</td>\n",
       "      <td>109</td>\n",
       "      <td>9</td>\n",
       "      <td>0.502749</td>\n",
       "      <td>2900</td>\n",
       "      <td>4</td>\n",
       "      <td>79124</td>\n",
       "      <td>89.0</td>\n",
       "      <td>491.0</td>\n",
       "      <td>122.72</td>\n",
       "      <td>...</td>\n",
       "      <td>26</td>\n",
       "      <td>6.11</td>\n",
       "      <td>-3.82</td>\n",
       "      <td>2.51</td>\n",
       "      <td>0.2282</td>\n",
       "      <td>-0.5399</td>\n",
       "      <td>0</td>\n",
       "      <td>0</td>\n",
       "      <td>5</td>\n",
       "      <td>0</td>\n",
       "    </tr>\n",
       "  </tbody>\n",
       "</table>\n",
       "<p>5 rows × 771 columns</p>\n",
       "</div>"
      ],
      "text/plain": [
       "   id   f1  f2        f3    f4  f5     f6      f7      f8      f9  ...   f770  \\\n",
       "0   1  126  10  0.686842  1100   3  13699  7201.0  4949.0  126.75  ...      5   \n",
       "1   2  121  10  0.782776  1100   3  84645   240.0  1625.0  123.52  ...      6   \n",
       "2   3  126  10  0.500080  1100   3  83607  1800.0  1527.0  127.76  ...     13   \n",
       "3   4  134  10  0.439874  1100   3  82642  7542.0  1730.0  132.94  ...      4   \n",
       "4   5  109   9  0.502749  2900   4  79124    89.0   491.0  122.72  ...     26   \n",
       "\n",
       "   f771  f772  f773    f774    f775  f776  f777  f778  loss  \n",
       "0  2.14 -1.54  1.18  0.1833  0.7873     1     0     5     0  \n",
       "1  0.54 -0.24  0.13  0.1926 -0.6787     1     0     5     0  \n",
       "2  2.89 -1.73  1.04  0.2521  0.7258     1     0     5     0  \n",
       "3  1.29 -0.89  0.66  0.2498  0.7119     1     0     5     0  \n",
       "4  6.11 -3.82  2.51  0.2282 -0.5399     0     0     5     0  \n",
       "\n",
       "[5 rows x 771 columns]"
      ]
     },
     "execution_count": 4,
     "metadata": {},
     "output_type": "execute_result"
    }
   ],
   "source": [
    "df.head()"
   ]
  },
  {
   "cell_type": "code",
   "execution_count": 5,
   "metadata": {},
   "outputs": [
    {
     "data": {
      "text/html": [
       "<div>\n",
       "<style scoped>\n",
       "    .dataframe tbody tr th:only-of-type {\n",
       "        vertical-align: middle;\n",
       "    }\n",
       "\n",
       "    .dataframe tbody tr th {\n",
       "        vertical-align: top;\n",
       "    }\n",
       "\n",
       "    .dataframe thead th {\n",
       "        text-align: right;\n",
       "    }\n",
       "</style>\n",
       "<table border=\"1\" class=\"dataframe\">\n",
       "  <thead>\n",
       "    <tr style=\"text-align: right;\">\n",
       "      <th></th>\n",
       "      <th>id</th>\n",
       "      <th>f1</th>\n",
       "      <th>f2</th>\n",
       "      <th>f3</th>\n",
       "      <th>f4</th>\n",
       "      <th>f5</th>\n",
       "      <th>f6</th>\n",
       "      <th>f7</th>\n",
       "      <th>f8</th>\n",
       "      <th>f9</th>\n",
       "      <th>...</th>\n",
       "      <th>f770</th>\n",
       "      <th>f771</th>\n",
       "      <th>f772</th>\n",
       "      <th>f773</th>\n",
       "      <th>f774</th>\n",
       "      <th>f775</th>\n",
       "      <th>f776</th>\n",
       "      <th>f777</th>\n",
       "      <th>f778</th>\n",
       "      <th>loss</th>\n",
       "    </tr>\n",
       "  </thead>\n",
       "  <tbody>\n",
       "    <tr>\n",
       "      <th>count</th>\n",
       "      <td>105471.000000</td>\n",
       "      <td>105471.000000</td>\n",
       "      <td>105471.000000</td>\n",
       "      <td>105471.000000</td>\n",
       "      <td>105471.000000</td>\n",
       "      <td>105471.000000</td>\n",
       "      <td>105471.000000</td>\n",
       "      <td>105289.000000</td>\n",
       "      <td>105370.000000</td>\n",
       "      <td>105471.000000</td>\n",
       "      <td>...</td>\n",
       "      <td>105471.000000</td>\n",
       "      <td>105471.000000</td>\n",
       "      <td>105471.000000</td>\n",
       "      <td>105471.000000</td>\n",
       "      <td>104407.000000</td>\n",
       "      <td>103946.000000</td>\n",
       "      <td>105471.000000</td>\n",
       "      <td>105471.000000</td>\n",
       "      <td>105471.000000</td>\n",
       "      <td>105471.000000</td>\n",
       "    </tr>\n",
       "    <tr>\n",
       "      <th>mean</th>\n",
       "      <td>52736.000000</td>\n",
       "      <td>134.603171</td>\n",
       "      <td>8.246883</td>\n",
       "      <td>0.499066</td>\n",
       "      <td>2678.488874</td>\n",
       "      <td>7.354533</td>\n",
       "      <td>47993.704317</td>\n",
       "      <td>2974.336018</td>\n",
       "      <td>2436.363718</td>\n",
       "      <td>134.555225</td>\n",
       "      <td>...</td>\n",
       "      <td>17.422543</td>\n",
       "      <td>5.800976</td>\n",
       "      <td>-4.246788</td>\n",
       "      <td>3.273059</td>\n",
       "      <td>0.233852</td>\n",
       "      <td>0.014797</td>\n",
       "      <td>0.310246</td>\n",
       "      <td>0.322847</td>\n",
       "      <td>175.951589</td>\n",
       "      <td>0.799585</td>\n",
       "    </tr>\n",
       "    <tr>\n",
       "      <th>std</th>\n",
       "      <td>30446.999458</td>\n",
       "      <td>14.725467</td>\n",
       "      <td>1.691535</td>\n",
       "      <td>0.288752</td>\n",
       "      <td>1401.010943</td>\n",
       "      <td>5.151112</td>\n",
       "      <td>35677.136048</td>\n",
       "      <td>2546.551085</td>\n",
       "      <td>2262.950221</td>\n",
       "      <td>13.824682</td>\n",
       "      <td>...</td>\n",
       "      <td>18.548936</td>\n",
       "      <td>6.508555</td>\n",
       "      <td>4.828265</td>\n",
       "      <td>3.766746</td>\n",
       "      <td>0.073578</td>\n",
       "      <td>1.039439</td>\n",
       "      <td>0.462597</td>\n",
       "      <td>0.467567</td>\n",
       "      <td>298.294043</td>\n",
       "      <td>4.321120</td>\n",
       "    </tr>\n",
       "    <tr>\n",
       "      <th>min</th>\n",
       "      <td>1.000000</td>\n",
       "      <td>103.000000</td>\n",
       "      <td>1.000000</td>\n",
       "      <td>0.000006</td>\n",
       "      <td>1100.000000</td>\n",
       "      <td>1.000000</td>\n",
       "      <td>0.000000</td>\n",
       "      <td>1.000000</td>\n",
       "      <td>1.000000</td>\n",
       "      <td>106.820000</td>\n",
       "      <td>...</td>\n",
       "      <td>2.000000</td>\n",
       "      <td>0.000000</td>\n",
       "      <td>-43.160000</td>\n",
       "      <td>0.000000</td>\n",
       "      <td>0.000000</td>\n",
       "      <td>-18.439600</td>\n",
       "      <td>0.000000</td>\n",
       "      <td>0.000000</td>\n",
       "      <td>2.000000</td>\n",
       "      <td>0.000000</td>\n",
       "    </tr>\n",
       "    <tr>\n",
       "      <th>25%</th>\n",
       "      <td>26368.500000</td>\n",
       "      <td>124.000000</td>\n",
       "      <td>8.000000</td>\n",
       "      <td>0.248950</td>\n",
       "      <td>1500.000000</td>\n",
       "      <td>4.000000</td>\n",
       "      <td>11255.000000</td>\n",
       "      <td>629.000000</td>\n",
       "      <td>746.000000</td>\n",
       "      <td>124.290000</td>\n",
       "      <td>...</td>\n",
       "      <td>5.000000</td>\n",
       "      <td>1.480000</td>\n",
       "      <td>-5.700000</td>\n",
       "      <td>0.740000</td>\n",
       "      <td>0.198400</td>\n",
       "      <td>-0.704275</td>\n",
       "      <td>0.000000</td>\n",
       "      <td>0.000000</td>\n",
       "      <td>19.000000</td>\n",
       "      <td>0.000000</td>\n",
       "    </tr>\n",
       "    <tr>\n",
       "      <th>50%</th>\n",
       "      <td>52736.000000</td>\n",
       "      <td>129.000000</td>\n",
       "      <td>9.000000</td>\n",
       "      <td>0.498267</td>\n",
       "      <td>2200.000000</td>\n",
       "      <td>4.000000</td>\n",
       "      <td>76530.000000</td>\n",
       "      <td>2292.000000</td>\n",
       "      <td>1786.000000</td>\n",
       "      <td>128.460000</td>\n",
       "      <td>...</td>\n",
       "      <td>11.000000</td>\n",
       "      <td>3.570000</td>\n",
       "      <td>-2.600000</td>\n",
       "      <td>1.990000</td>\n",
       "      <td>0.251800</td>\n",
       "      <td>0.375400</td>\n",
       "      <td>0.000000</td>\n",
       "      <td>0.000000</td>\n",
       "      <td>40.000000</td>\n",
       "      <td>0.000000</td>\n",
       "    </tr>\n",
       "    <tr>\n",
       "      <th>75%</th>\n",
       "      <td>79103.500000</td>\n",
       "      <td>148.000000</td>\n",
       "      <td>9.000000</td>\n",
       "      <td>0.749494</td>\n",
       "      <td>3700.000000</td>\n",
       "      <td>10.000000</td>\n",
       "      <td>80135.000000</td>\n",
       "      <td>4679.000000</td>\n",
       "      <td>3411.000000</td>\n",
       "      <td>149.080000</td>\n",
       "      <td>...</td>\n",
       "      <td>23.000000</td>\n",
       "      <td>7.700000</td>\n",
       "      <td>-1.010000</td>\n",
       "      <td>4.440000</td>\n",
       "      <td>0.283600</td>\n",
       "      <td>0.737100</td>\n",
       "      <td>1.000000</td>\n",
       "      <td>1.000000</td>\n",
       "      <td>104.000000</td>\n",
       "      <td>0.000000</td>\n",
       "    </tr>\n",
       "    <tr>\n",
       "      <th>max</th>\n",
       "      <td>105471.000000</td>\n",
       "      <td>176.000000</td>\n",
       "      <td>11.000000</td>\n",
       "      <td>0.999994</td>\n",
       "      <td>7900.000000</td>\n",
       "      <td>17.000000</td>\n",
       "      <td>88565.000000</td>\n",
       "      <td>9968.000000</td>\n",
       "      <td>11541.000000</td>\n",
       "      <td>172.950000</td>\n",
       "      <td>...</td>\n",
       "      <td>168.000000</td>\n",
       "      <td>58.120000</td>\n",
       "      <td>0.000000</td>\n",
       "      <td>34.040000</td>\n",
       "      <td>0.473700</td>\n",
       "      <td>11.092000</td>\n",
       "      <td>1.000000</td>\n",
       "      <td>1.000000</td>\n",
       "      <td>1212.000000</td>\n",
       "      <td>100.000000</td>\n",
       "    </tr>\n",
       "  </tbody>\n",
       "</table>\n",
       "<p>8 rows × 752 columns</p>\n",
       "</div>"
      ],
      "text/plain": [
       "                  id             f1             f2             f3  \\\n",
       "count  105471.000000  105471.000000  105471.000000  105471.000000   \n",
       "mean    52736.000000     134.603171       8.246883       0.499066   \n",
       "std     30446.999458      14.725467       1.691535       0.288752   \n",
       "min         1.000000     103.000000       1.000000       0.000006   \n",
       "25%     26368.500000     124.000000       8.000000       0.248950   \n",
       "50%     52736.000000     129.000000       9.000000       0.498267   \n",
       "75%     79103.500000     148.000000       9.000000       0.749494   \n",
       "max    105471.000000     176.000000      11.000000       0.999994   \n",
       "\n",
       "                  f4             f5             f6             f7  \\\n",
       "count  105471.000000  105471.000000  105471.000000  105289.000000   \n",
       "mean     2678.488874       7.354533   47993.704317    2974.336018   \n",
       "std      1401.010943       5.151112   35677.136048    2546.551085   \n",
       "min      1100.000000       1.000000       0.000000       1.000000   \n",
       "25%      1500.000000       4.000000   11255.000000     629.000000   \n",
       "50%      2200.000000       4.000000   76530.000000    2292.000000   \n",
       "75%      3700.000000      10.000000   80135.000000    4679.000000   \n",
       "max      7900.000000      17.000000   88565.000000    9968.000000   \n",
       "\n",
       "                  f8             f9      ...                 f770  \\\n",
       "count  105370.000000  105471.000000      ...        105471.000000   \n",
       "mean     2436.363718     134.555225      ...            17.422543   \n",
       "std      2262.950221      13.824682      ...            18.548936   \n",
       "min         1.000000     106.820000      ...             2.000000   \n",
       "25%       746.000000     124.290000      ...             5.000000   \n",
       "50%      1786.000000     128.460000      ...            11.000000   \n",
       "75%      3411.000000     149.080000      ...            23.000000   \n",
       "max     11541.000000     172.950000      ...           168.000000   \n",
       "\n",
       "                f771           f772           f773           f774  \\\n",
       "count  105471.000000  105471.000000  105471.000000  104407.000000   \n",
       "mean        5.800976      -4.246788       3.273059       0.233852   \n",
       "std         6.508555       4.828265       3.766746       0.073578   \n",
       "min         0.000000     -43.160000       0.000000       0.000000   \n",
       "25%         1.480000      -5.700000       0.740000       0.198400   \n",
       "50%         3.570000      -2.600000       1.990000       0.251800   \n",
       "75%         7.700000      -1.010000       4.440000       0.283600   \n",
       "max        58.120000       0.000000      34.040000       0.473700   \n",
       "\n",
       "                f775           f776           f777           f778  \\\n",
       "count  103946.000000  105471.000000  105471.000000  105471.000000   \n",
       "mean        0.014797       0.310246       0.322847     175.951589   \n",
       "std         1.039439       0.462597       0.467567     298.294043   \n",
       "min       -18.439600       0.000000       0.000000       2.000000   \n",
       "25%        -0.704275       0.000000       0.000000      19.000000   \n",
       "50%         0.375400       0.000000       0.000000      40.000000   \n",
       "75%         0.737100       1.000000       1.000000     104.000000   \n",
       "max        11.092000       1.000000       1.000000    1212.000000   \n",
       "\n",
       "                loss  \n",
       "count  105471.000000  \n",
       "mean        0.799585  \n",
       "std         4.321120  \n",
       "min         0.000000  \n",
       "25%         0.000000  \n",
       "50%         0.000000  \n",
       "75%         0.000000  \n",
       "max       100.000000  \n",
       "\n",
       "[8 rows x 752 columns]"
      ]
     },
     "execution_count": 5,
     "metadata": {},
     "output_type": "execute_result"
    }
   ],
   "source": [
    "# simple statistical analysis\n",
    "df.describe()"
   ]
  },
  {
   "cell_type": "code",
   "execution_count": 6,
   "metadata": {},
   "outputs": [
    {
     "data": {
      "text/plain": [
       "True"
      ]
     },
     "execution_count": 6,
     "metadata": {},
     "output_type": "execute_result"
    }
   ],
   "source": [
    "# before \"cleaning\" - are there nan values\n",
    "df.isnull().values.any()"
   ]
  },
  {
   "cell_type": "code",
   "execution_count": 7,
   "metadata": {},
   "outputs": [],
   "source": [
    "# assure that no 'NA' are left\n",
    "# this should be handled in the loading step, but it apparently isn't, should be checked seperately\n",
    "df = df.replace('NA', np.nan)"
   ]
  },
  {
   "cell_type": "code",
   "execution_count": 8,
   "metadata": {},
   "outputs": [],
   "source": [
    "# helper function, gives true if field is a number\n",
    "is_numeric = np.vectorize(lambda x: np.issubdtype(x, np.number))"
   ]
  },
  {
   "cell_type": "code",
   "execution_count": 9,
   "metadata": {},
   "outputs": [
    {
     "data": {
      "text/plain": [
       "False"
      ]
     },
     "execution_count": 9,
     "metadata": {},
     "output_type": "execute_result"
    }
   ],
   "source": [
    "# are all columns of the dataframe of numeric type\n",
    "mask_is_numeric = is_numeric(df.dtypes)\n",
    "np.all(mask_is_numeric)"
   ]
  },
  {
   "cell_type": "code",
   "execution_count": 10,
   "metadata": {},
   "outputs": [],
   "source": [
    "# explict conversion to float for all fields which are not yet numeric (fixing the loading issue)\n",
    "df.loc[:, ~mask_is_numeric] = df.loc[:, ~mask_is_numeric].applymap(float)"
   ]
  },
  {
   "cell_type": "code",
   "execution_count": 11,
   "metadata": {},
   "outputs": [],
   "source": [
    "# extract feature data into np arrays\n",
    "X = df.loc[:,'f1':'f778'].values"
   ]
  },
  {
   "cell_type": "code",
   "execution_count": 12,
   "metadata": {},
   "outputs": [],
   "source": [
    "# extract target from dataframe into np array\n",
    "y = df.loc[:,'loss'].values"
   ]
  },
  {
   "cell_type": "code",
   "execution_count": 13,
   "metadata": {},
   "outputs": [],
   "source": [
    "# fill nan values with mean of corresponding feature column (axis=0) using Imputer\n",
    "imp = Imputer(strategy='mean', axis=0)\n",
    "imp.fit(X)\n",
    "X = imp.transform(X)"
   ]
  },
  {
   "cell_type": "code",
   "execution_count": 14,
   "metadata": {},
   "outputs": [
    {
     "data": {
      "text/plain": [
       "False"
      ]
     },
     "execution_count": 14,
     "metadata": {},
     "output_type": "execute_result"
    }
   ],
   "source": [
    "# after cleaning - are there any nan values in the data (not target) - False is good.\n",
    "np.any(np.isnan(X))"
   ]
  },
  {
   "cell_type": "code",
   "execution_count": 15,
   "metadata": {},
   "outputs": [],
   "source": [
    "# split data into training and test set\n",
    "X_train, X_test, y_train, y_test = train_test_split(X, y, test_size=0.3, random_state=0)"
   ]
  },
  {
   "cell_type": "code",
   "execution_count": 16,
   "metadata": {},
   "outputs": [],
   "source": [
    "# train model and predict\n",
    "clf = Ridge(alpha=1.0)\n",
    "clf.fit(X_train, y_train)\n",
    "y_pred = clf.predict(X_test)"
   ]
  },
  {
   "cell_type": "code",
   "execution_count": 17,
   "metadata": {},
   "outputs": [
    {
     "name": "stdout",
     "output_type": "stream",
     "text": [
      "mse 19.3222841009\n",
      "r2 -8.10136863603e-05\n",
      "mae 1.45495885607\n"
     ]
    }
   ],
   "source": [
    "# evaluate model performance with different metrics\n",
    "print('mse', mean_squared_error(y_test, y_pred))\n",
    "print('r2', r2_score(y_test, y_pred))\n",
    "print('mae', mean_absolute_error(y_test, y_pred))"
   ]
  },
  {
   "cell_type": "markdown",
   "metadata": {},
   "source": [
    "# Predict for Submission"
   ]
  },
  {
   "cell_type": "code",
   "execution_count": 18,
   "metadata": {},
   "outputs": [
    {
     "name": "stderr",
     "output_type": "stream",
     "text": [
      "/anaconda3/lib/python3.6/site-packages/IPython/core/interactiveshell.py:2728: DtypeWarning: Columns (417) have mixed types. Specify dtype option on import or set low_memory=False.\n",
      "  interactivity=interactivity, compiler=compiler, result=result)\n"
     ]
    }
   ],
   "source": [
    "# loading test data to predict values for submission\n",
    "df_test_raw = pd.read_csv('./test_v2.csv')"
   ]
  },
  {
   "cell_type": "code",
   "execution_count": 19,
   "metadata": {},
   "outputs": [],
   "source": [
    "df_test = df_test_raw.copy()"
   ]
  },
  {
   "cell_type": "code",
   "execution_count": 20,
   "metadata": {},
   "outputs": [],
   "source": [
    "# \"cleaning\" procedure is copied from above - see comments there\n",
    "df_test = df_test.replace('NA', np.nan)\n",
    "mask_is_numeric = is_numeric(df_test.dtypes)\n",
    "df_test.loc[:, ~mask_is_numeric] = df_test.loc[:, ~mask_is_numeric].applymap(float)\n",
    "X_sub = df_test.loc[:,'f1':'f778'].values\n",
    "imp = Imputer(strategy='mean', axis=0)\n",
    "imp.fit(X_sub)\n",
    "X_sub = imp.transform(X_sub)"
   ]
  },
  {
   "cell_type": "code",
   "execution_count": 21,
   "metadata": {},
   "outputs": [],
   "source": [
    "df_test['loss'] = clf.predict(X_sub)"
   ]
  },
  {
   "cell_type": "code",
   "execution_count": 22,
   "metadata": {},
   "outputs": [],
   "source": [
    "df_test[['id', 'loss']].to_csv('submission.csv', index=False)"
   ]
  },
  {
   "cell_type": "code",
   "execution_count": null,
   "metadata": {},
   "outputs": [],
   "source": []
  }
 ],
 "metadata": {
  "kernelspec": {
   "display_name": "Python 3",
   "language": "python",
   "name": "python3"
  },
  "language_info": {
   "codemirror_mode": {
    "name": "ipython",
    "version": 3
   },
   "file_extension": ".py",
   "mimetype": "text/x-python",
   "name": "python",
   "nbconvert_exporter": "python",
   "pygments_lexer": "ipython3",
   "version": "3.6.3"
  }
 },
 "nbformat": 4,
 "nbformat_minor": 2
}
